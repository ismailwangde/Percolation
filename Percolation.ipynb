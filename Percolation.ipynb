{
  "nbformat": 4,
  "nbformat_minor": 0,
  "metadata": {
    "colab": {
      "provenance": []
    },
    "kernelspec": {
      "name": "python3",
      "display_name": "Python 3"
    },
    "language_info": {
      "name": "python"
    }
  },
  "cells": [
    {
      "cell_type": "code",
      "source": [
        "import numpy as np, random, copy, time\n",
        "n=int(input(\"enter size\"))\n",
        "a=np.zeros((n,n))\n",
        "x=True\n",
        "k,c=int(n/2),0\n",
        "a[0][k]=2\n",
        "\n",
        "def isopen(y,z):\n",
        "    if y!=(n-1) and a[y+1][z]==1:\n",
        "        y+=1\n",
        "        a[y][z]=a[0][k]\n",
        "        copy.deepcopy(isopen(y,z))\n",
        "    if z!=(n-1) and a[y][z+1]==1:\n",
        "        z+=1\n",
        "        a[y][z]=a[0][k]\n",
        "        copy.deepcopy(isopen(y,z))\n",
        "    if a[y][z-1]==1 and z>=0:\n",
        "        z-=1\n",
        "        a[y][z]=a[0][k]\n",
        "        copy.deepcopy(isopen(y,z))\n",
        "    if a[y-1][z]==1 and y>=0:\n",
        "        y-=1\n",
        "        a[y][z]=a[0][k]\n",
        "        copy.deepcopy(isopen(y,z))\n",
        "start_time = time.time()\n",
        "while x:\n",
        "  i=random.randint(0,n-1)\n",
        "  j=random.randint(0,n-1)\n",
        "  if a[i][j]==0:\n",
        "    a[i][j]=1\n",
        "    c+=1\n",
        "    h=copy.copy(a)\n",
        "    for b in range(0,n):\n",
        "        if a[0][b]==1:\n",
        "            isopen(0,b)\n",
        "            q=b\n",
        "    if a[n-1][b]==a[0][k]:\n",
        "      print(a)\n",
        "      print(\"connected, count:\",c,\"Percentage:\",(c/n),\"time taken:\",time.time() - start_time)\n",
        "      x=False\n",
        "    else:\n",
        "      a=h"
      ],
      "metadata": {
        "colab": {
          "base_uri": "https://localhost:8080/"
        },
        "id": "sdqLko2oXG6F",
        "outputId": "f98f60cc-4792-4fad-cacb-61a9c3308e14"
      },
      "execution_count": 6,
      "outputs": [
        {
          "output_type": "stream",
          "name": "stdout",
          "text": [
            "enter size100\n",
            "[[0. 2. 0. ... 2. 2. 0.]\n",
            " [0. 0. 0. ... 2. 0. 2.]\n",
            " [0. 1. 0. ... 0. 2. 2.]\n",
            " ...\n",
            " [0. 0. 1. ... 0. 1. 0.]\n",
            " [1. 0. 0. ... 0. 0. 0.]\n",
            " [1. 2. 1. ... 2. 2. 2.]]\n",
            "connected, count: 5710 Percentage: 57.1 time taken: 2.208437204360962\n"
          ]
        }
      ]
    }
  ]
}